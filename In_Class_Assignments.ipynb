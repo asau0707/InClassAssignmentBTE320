{
  "nbformat": 4,
  "nbformat_minor": 0,
  "metadata": {
    "colab": {
      "provenance": [],
      "authorship_tag": "ABX9TyOtpSUN1JpCzjF0IkINYSKt",
      "include_colab_link": true
    },
    "kernelspec": {
      "name": "python3",
      "display_name": "Python 3"
    },
    "language_info": {
      "name": "python"
    }
  },
  "cells": [
    {
      "cell_type": "markdown",
      "metadata": {
        "id": "view-in-github",
        "colab_type": "text"
      },
      "source": [
        "<a href=\"https://colab.research.google.com/github/asau0707/InClassAssignmentBTE320/blob/main/In_Class_Assignments.ipynb\" target=\"_parent\"><img src=\"https://colab.research.google.com/assets/colab-badge.svg\" alt=\"Open In Colab\"/></a>"
      ]
    },
    {
      "cell_type": "code",
      "execution_count": null,
      "metadata": {
        "colab": {
          "base_uri": "https://localhost:8080/"
        },
        "id": "cJaVvmzKo-dS",
        "outputId": "f20830bd-1fd1-4534-8782-76b654fa2bf0"
      },
      "outputs": [
        {
          "output_type": "stream",
          "name": "stdout",
          "text": [
            "Enter the radius: 80\n",
            "Enter the height: 7\n",
            "The surface area is:  41760\n"
          ]
        }
      ],
      "source": [
        "#two from input (val for pi, radius, and height)\n",
        "#use to calculate a surface area of closed cylindar. A=2pir^2 + 2pirh\n",
        "radius= input(\"Enter the radius: \")\n",
        "height= input(\"Enter the height: \")\n",
        "pi=int(3.14)\n",
        "x= 2*pi*int(radius)**2 + 2*pi*int(radius)*int(height)\n",
        "print(\"The surface area is: \", x)"
      ]
    },
    {
      "cell_type": "code",
      "source": [
        "number1=float(input(\"Please provide a number: \"))\n",
        "number2=float(input(\"Please provide another number: \"))\n",
        "symbol= input(\"Please provide a symbol (+,-,*,/,%): \")\n",
        "\n",
        "if symbol==\"+\":\n",
        "  print(f\"{number1} + {number2} = {number1 + number2}\")\n",
        "elif symbol==\"-\":\n",
        "  print(f\"{number1} - {number2} = {number1 - number2}\")\n",
        "elif symbol ==\"*\":\n",
        "  print(f\"{number1} * {number2} = {number1 * number2}\")\n",
        "elif symbol ==\"/\":\n",
        "  print(f\"{number1} / {number2} = {number1 / number2}\")\n",
        "elif symbol ==\"%\":\n",
        "  print(f\"{number1} mod {number2} = {number1 % number2}\")\n",
        "else:\n",
        "  print(\"Invalid symbol\")"
      ],
      "metadata": {
        "colab": {
          "base_uri": "https://localhost:8080/"
        },
        "id": "eedLPjJBf3OO",
        "outputId": "a938674e-c32a-40d0-bc15-14af359a266b"
      },
      "execution_count": null,
      "outputs": [
        {
          "output_type": "stream",
          "name": "stdout",
          "text": [
            "Please provide a number: 10\n",
            "Please provide another number: 2\n",
            "Please provide a symbol (+,-,*,/,%): %\n",
            "10.0 mod 2.0 = 0.0\n"
          ]
        }
      ]
    },
    {
      "cell_type": "code",
      "source": [
        "hours=int()\n",
        "for(hours) in range (1,9):\n",
        "  fee=(5+2.5*hours)\n",
        "  if(hours==1):\n",
        "    fee=10.0\n",
        "  elif(hours>6):\n",
        "    fee=20.0\n",
        "  print(hours,\" \", fee)\n"
      ],
      "metadata": {
        "colab": {
          "base_uri": "https://localhost:8080/"
        },
        "id": "APPZZ9NpXmK0",
        "outputId": "5da02764-1587-41a4-b1cd-88c0e71e3dfb"
      },
      "execution_count": 12,
      "outputs": [
        {
          "output_type": "stream",
          "name": "stdout",
          "text": [
            "1   10.0\n",
            "2   10.0\n",
            "3   12.5\n",
            "4   15.0\n",
            "5   17.5\n",
            "6   20.0\n",
            "7   20.0\n",
            "8   20.0\n"
          ]
        }
      ]
    },
    {
      "cell_type": "code",
      "source": [
        "from types import CodeType\n",
        "for adMoney in range (0,201,25):\n",
        "  revenue= (20+2*round(adMoney**0.5)) *10\n",
        "  costs=200+adMoney\n",
        "  profit=revenue-costs\n",
        "  print(adMoney, \"\\t\", profit)\n"
      ],
      "metadata": {
        "colab": {
          "base_uri": "https://localhost:8080/"
        },
        "id": "xaWbkjP6c-LZ",
        "outputId": "6986d419-fd76-4616-c040-5bc081fab8b8"
      },
      "execution_count": 41,
      "outputs": [
        {
          "output_type": "stream",
          "name": "stdout",
          "text": [
            "0 \t 0\n",
            "25 \t 75\n",
            "50 \t 90\n",
            "75 \t 105\n",
            "100 \t 100\n",
            "125 \t 95\n",
            "150 \t 90\n",
            "175 \t 85\n",
            "200 \t 80\n"
          ]
        }
      ]
    }
  ]
}
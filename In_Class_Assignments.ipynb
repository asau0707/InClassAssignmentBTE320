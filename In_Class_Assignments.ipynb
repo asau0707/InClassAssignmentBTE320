{
  "nbformat": 4,
  "nbformat_minor": 0,
  "metadata": {
    "colab": {
      "provenance": [],
      "authorship_tag": "ABX9TyMjK0NhvwWkvgUvUBRgt218",
      "include_colab_link": true
    },
    "kernelspec": {
      "name": "python3",
      "display_name": "Python 3"
    },
    "language_info": {
      "name": "python"
    }
  },
  "cells": [
    {
      "cell_type": "markdown",
      "metadata": {
        "id": "view-in-github",
        "colab_type": "text"
      },
      "source": [
        "<a href=\"https://colab.research.google.com/github/asau0707/InClassAssignmentBTE320/blob/main/In_Class_Assignments.ipynb\" target=\"_parent\"><img src=\"https://colab.research.google.com/assets/colab-badge.svg\" alt=\"Open In Colab\"/></a>"
      ]
    },
    {
      "cell_type": "code",
      "execution_count": null,
      "metadata": {
        "colab": {
          "base_uri": "https://localhost:8080/"
        },
        "id": "cJaVvmzKo-dS",
        "outputId": "f20830bd-1fd1-4534-8782-76b654fa2bf0"
      },
      "outputs": [
        {
          "output_type": "stream",
          "name": "stdout",
          "text": [
            "Enter the radius: 80\n",
            "Enter the height: 7\n",
            "The surface area is:  41760\n"
          ]
        }
      ],
      "source": [
        "#two from input (val for pi, radius, and height)\n",
        "#use to calculate a surface area of closed cylindar. A=2pir^2 + 2pirh\n",
        "radius= input(\"Enter the radius: \")\n",
        "height= input(\"Enter the height: \")\n",
        "pi=int(3.14)\n",
        "x= 2*pi*int(radius)**2 + 2*pi*int(radius)*int(height)\n",
        "print(\"The surface area is: \", x)"
      ]
    },
    {
      "cell_type": "code",
      "source": [
        "number1=float(input(\"Please provide a number: \"))\n",
        "number2=float(input(\"Please provide another number: \"))\n",
        "symbol= input(\"Please provide a symbol (+,-,*,/,%): \")\n",
        "\n",
        "if symbol==\"+\":\n",
        "  print(f\"{number1} + {number2} = {number1 + number2}\")\n",
        "elif symbol==\"-\":\n",
        "  print(f\"{number1} - {number2} = {number1 - number2}\")\n",
        "elif symbol ==\"*\":\n",
        "  print(f\"{number1} * {number2} = {number1 * number2}\")\n",
        "elif symbol ==\"/\":\n",
        "  print(f\"{number1} / {number2} = {number1 / number2}\")\n",
        "elif symbol ==\"%\":\n",
        "  print(f\"{number1} mod {number2} = {number1 % number2}\")\n",
        "else:\n",
        "  print(\"Invalid symbol\")"
      ],
      "metadata": {
        "colab": {
          "base_uri": "https://localhost:8080/"
        },
        "id": "eedLPjJBf3OO",
        "outputId": "a938674e-c32a-40d0-bc15-14af359a266b"
      },
      "execution_count": null,
      "outputs": [
        {
          "output_type": "stream",
          "name": "stdout",
          "text": [
            "Please provide a number: 10\n",
            "Please provide another number: 2\n",
            "Please provide a symbol (+,-,*,/,%): %\n",
            "10.0 mod 2.0 = 0.0\n"
          ]
        }
      ]
    },
    {
      "cell_type": "code",
      "source": [
        "hours=int()\n",
        "for(hours) in range (1,9):\n",
        "  fee=(5+2.5*hours)\n",
        "  if(hours==1):\n",
        "    fee=10.0\n",
        "  elif(hours>6):\n",
        "    fee=20.0\n",
        "  print(hours,\" \", fee)\n"
      ],
      "metadata": {
        "colab": {
          "base_uri": "https://localhost:8080/"
        },
        "id": "APPZZ9NpXmK0",
        "outputId": "5da02764-1587-41a4-b1cd-88c0e71e3dfb"
      },
      "execution_count": null,
      "outputs": [
        {
          "output_type": "stream",
          "name": "stdout",
          "text": [
            "1   10.0\n",
            "2   10.0\n",
            "3   12.5\n",
            "4   15.0\n",
            "5   17.5\n",
            "6   20.0\n",
            "7   20.0\n",
            "8   20.0\n"
          ]
        }
      ]
    },
    {
      "cell_type": "code",
      "source": [
        "print(\"Ad$\\t\", \"Profit\")\n",
        "adMoney=0\n",
        "while adMoney <201:\n",
        "  revenue= (20+2*round(adMoney**0.5))*10\n",
        "  costs= 200+adMoney\n",
        "  profit=revenue-costs\n",
        "  print(adMoney, \"\\t\", profit)\n",
        "  adMoney+=25"
      ],
      "metadata": {
        "colab": {
          "base_uri": "https://localhost:8080/"
        },
        "id": "6pKD6_hhv6sm",
        "outputId": "5f30909b-28ce-402a-d72e-ceca47784595"
      },
      "execution_count": null,
      "outputs": [
        {
          "output_type": "stream",
          "name": "stdout",
          "text": [
            "Ad$\t Profit\n",
            "0 \t 0\n",
            "25 \t 75\n",
            "50 \t 90\n",
            "75 \t 105\n",
            "100 \t 100\n",
            "125 \t 95\n",
            "150 \t 90\n",
            "175 \t 85\n",
            "200 \t 80\n"
          ]
        }
      ]
    },
    {
      "cell_type": "code",
      "source": [
        "import random\n",
        "\n",
        "play=input(\"Do you want to play a game? (yes/no): \")\n",
        "\n",
        "while play==\"yes\":\n",
        "  p1=input(\"P1: Rock, Paper, or Scissors?: \")\n",
        "  p2=random.choice([\"Rock\", \"Paper\", \"Scissors\"])\n",
        "  print(f'Player chose {p1}; Computer chose {p2}')\n",
        "\n",
        "  if p1==p2:\n",
        "    print(\"Tie!\")\n",
        "  elif p1==\"Rock\":\n",
        "    if p2==\"Scissors\":\n",
        "      print(\"P1 wins!\")\n",
        "    else:\n",
        "      print(\"P2 wins!\")\n",
        "  elif p1==\"Paper\":\n",
        "    if p2==\"Rock\":\n",
        "      print(\"P1 wins!\")\n",
        "    else:\n",
        "      print(\"P2 wins!\")\n",
        "  elif p1==\"Scissors\":\n",
        "    if p2==\"Paper\":\n",
        "      print(\"P1 wins!\")\n",
        "    else:\n",
        "      print(\"P2 wins!\")\n",
        "  else:\n",
        "    print(\"Invalid Input\")\n",
        "  play=str(input(\"Do you want to play again? (yes/no): \"))\n",
        "print(\"Good day\")"
      ],
      "metadata": {
        "colab": {
          "base_uri": "https://localhost:8080/"
        },
        "id": "qT6AfW-TMXxz",
        "outputId": "e9acaff6-33d7-403d-9a04-626836db19ce"
      },
      "execution_count": null,
      "outputs": [
        {
          "output_type": "stream",
          "name": "stdout",
          "text": [
            "Do you want to play a game? (yes/no): yes\n",
            "P1: Rock, Paper, or Scissors?: Rock\n",
            "Player chose Rock; Computer chose Rock\n",
            "Tie!\n"
          ]
        }
      ]
    },
    {
      "cell_type": "code",
      "source": [
        "list=[]\n",
        "\n",
        "while True:\n",
        "  num=float(input(\"Give a number: \"))\n",
        "  if num==0:\n",
        "    break\n",
        "  list.append(num)\n",
        "list.sort(reverse=True)\n",
        "print(list)"
      ],
      "metadata": {
        "colab": {
          "base_uri": "https://localhost:8080/"
        },
        "outputId": "2000fb29-bbe7-47eb-c024-e7383d413733",
        "id": "V8aZQ-SkTdMR"
      },
      "execution_count": null,
      "outputs": [
        {
          "output_type": "stream",
          "name": "stdout",
          "text": [
            "Give a number: 6\n",
            "Give a number: 1\n",
            "Give a number: 12.4\n",
            "Give a number: 0\n",
            "[12.4, 6.0, 1.0]\n"
          ]
        }
      ]
    },
    {
      "cell_type": "code",
      "source": [
        "months = {}\n",
        "names= [\"Jan\", \"Feb\", \"March\", \"April\", \"May\", \"June\", \"July\", \"Aug\", \"Sept\", \"Oct\", \"Nov\", \"Dec\"]\n",
        "nums=[1,2,3,4,5,6,7,8,9,10,11,12]\n",
        "\n",
        "for idx in range(len(nums)):\n",
        "  months[nums[idx]]=names[idx]\n",
        "months\n",
        "\n",
        "'''\n",
        "cntr=0\n",
        "for num in nums:\n",
        "  months[num]=names[cntr]\n",
        "  cntr+=1\n",
        "months\n",
        "\n",
        "OR\n",
        "\n",
        "for num in nums:\n",
        "  months[num]=names[num-1]\n",
        "months\n",
        "'''"
      ],
      "metadata": {
        "colab": {
          "base_uri": "https://localhost:8080/"
        },
        "id": "8A0ZjHuwxzPf",
        "outputId": "b4561b19-e144-4f91-b6e0-7ccb1f4999b1"
      },
      "execution_count": null,
      "outputs": [
        {
          "output_type": "execute_result",
          "data": {
            "text/plain": [
              "{1: 'Jan',\n",
              " 2: 'Feb',\n",
              " 3: 'March',\n",
              " 4: 'April',\n",
              " 5: 'May',\n",
              " 6: 'June',\n",
              " 7: 'July',\n",
              " 8: 'Aug',\n",
              " 9: 'Sept',\n",
              " 10: 'Oct',\n",
              " 11: 'Nov',\n",
              " 12: 'Dec'}"
            ]
          },
          "metadata": {},
          "execution_count": 14
        }
      ]
    },
    {
      "cell_type": "code",
      "source": [
        "counts={}\n",
        "\n",
        "while len(counts)<5:\n",
        "  keyval=input(\"Give a String: \")\n",
        "\n",
        "  if keyval not in counts:\n",
        "    counts[keyval]=1\n",
        "  else:\n",
        "    counts[keyval]+=1\n",
        "counts"
      ],
      "metadata": {
        "id": "I5t4gd5R3u3U"
      },
      "execution_count": null,
      "outputs": []
    },
    {
      "cell_type": "code",
      "source": [
        "def calcFee(hours):\n",
        "  fee= 5 + 2.5*hours\n",
        "  if fee <10.0:\n",
        "    fee=10.0\n",
        "  elif fee >= 20.0:\n",
        "    fee=20.0\n",
        "  print(f'Fee for {hours} hours is {fee}')\n",
        "\n",
        "def main():\n",
        "  numHours=int(input(\"How many hours?: \"))\n",
        "  calcFee(numHours)\n",
        "main()"
      ],
      "metadata": {
        "id": "ID76NFkRnEK4"
      },
      "execution_count": null,
      "outputs": []
    },
    {
      "cell_type": "code",
      "source": [
        "def reverse(s):\n",
        "  if len(s) <=1:\n",
        "    return s\n",
        "  else:\n",
        "    #return s[-1]+reverse(s)\n",
        "    return s[-1]+reverse(s[1:-1]) + s[0]\n",
        "    #return reverse(s[1:]) + s[0]\n",
        "\n",
        "reverse(\"Hello\")"
      ],
      "metadata": {
        "colab": {
          "base_uri": "https://localhost:8080/",
          "height": 36
        },
        "id": "25jNJ_nYOxjd",
        "outputId": "0400b40d-b4fd-4811-aff0-116d9b5dcf3c"
      },
      "execution_count": null,
      "outputs": [
        {
          "output_type": "execute_result",
          "data": {
            "text/plain": [
              "'olleH'"
            ],
            "application/vnd.google.colaboratory.intrinsic+json": {
              "type": "string"
            }
          },
          "metadata": {},
          "execution_count": 1
        }
      ]
    },
    {
      "cell_type": "code",
      "source": [
        "#stress test\n",
        "\n",
        "def calcFee(hours):\n",
        "  fee= 5 + 2.5*hours\n",
        "  if fee <10.0:\n",
        "    fee=10.0\n",
        "  elif fee >= 20.0:\n",
        "    fee=20.0\n",
        "  print(f'Fee for {hours} hours is {fee}')\n",
        "\n",
        "def main():\n",
        "  try:\n",
        "    numHours=int(input(\"How many hours?: \"))\n",
        "    calcFee(numHours)\n",
        "  except ValueError:\n",
        "    print(\"Invalid input\")\n",
        "\n",
        "if __name__==\"__main__\":\n",
        "  main()"
      ],
      "metadata": {
        "colab": {
          "base_uri": "https://localhost:8080/"
        },
        "id": "5Ab1BRsDSku8",
        "outputId": "60f2b8bb-5566-4748-9dd3-9508fbff0057"
      },
      "execution_count": null,
      "outputs": [
        {
          "output_type": "stream",
          "name": "stdout",
          "text": [
            "How many hours?: jp\n",
            "Invalid input\n"
          ]
        }
      ]
    },
    {
      "cell_type": "code",
      "source": [
        "class Greeting:\n",
        "  def __init__(self, first, last):\n",
        "    self.first=first\n",
        "    self.last=last\n",
        "  def display(self, formal=False):\n",
        "    if formal:\n",
        "      print(f'Hello, {self.first} {self.last}')\n",
        "    else:\n",
        "      print(f'Hello, {self.first}!')\n",
        "  def __str__(self):\n",
        "    return str(self.first) + \", \" + str(self.last)\n",
        "\n",
        "greeting=Greeting(\"Donald\",\"Becker\")\n",
        "greeting2=Greeting(\"Bob\", \"Dylan\")\n",
        "greeting.display(formal=True)\n",
        "print(greeting)\n",
        "print(greeting2)"
      ],
      "metadata": {
        "id": "JJbXuyJwW0yD",
        "colab": {
          "base_uri": "https://localhost:8080/"
        },
        "outputId": "2d229827-9c35-405f-a1ba-e16125971a47"
      },
      "execution_count": null,
      "outputs": [
        {
          "output_type": "stream",
          "name": "stdout",
          "text": [
            "Hello, Donald Becker\n",
            "Donald, Becker\n",
            "Bob, Dylan\n"
          ]
        }
      ]
    },
    {
      "cell_type": "code",
      "source": [
        "class Student:\n",
        "  def __init__(self, name, number):\n",
        "    self.name=name\n",
        "    self.number=number\n",
        "    self.courses=[]\n",
        "\n",
        "  def __len__(self):\n",
        "    return len(self.courses)\n",
        "\n",
        "  def enroll(self, course):\n",
        "    if course in self.courses:\n",
        "      print(f'You have already enrolled in {course}')\n",
        "    else:\n",
        "      self.courses.append(course)\n",
        "      print(f'You have been enrolled in {course}')\n",
        "\n",
        "  def get_courses(self):\n",
        "    return self.courses\n",
        "\n",
        "  def get_number(self):\n",
        "    return self.number\n",
        "\n",
        "  def set_number(self,newnumber):\n",
        "    self.number=newnumber\n",
        "\n",
        "\n",
        "Student1=Student('James Bond', \"007\")\n",
        "#Student2=Student('Clark Kent',\"333\")\n",
        "#Student1.name\n",
        "#Student1.enroll(\"BTE320\")\n",
        "#Student1.enroll(\"BTE422\")\n",
        "#Student1.enroll(\"BTE320\")\n",
        "#Student1.get_courses()\n",
        "Student1.set_number(\"123\")\n",
        "Student1.get_number()\n",
        "#"
      ],
      "metadata": {
        "colab": {
          "base_uri": "https://localhost:8080/",
          "height": 36
        },
        "id": "cRl_pgAF5f7m",
        "outputId": "8f2c87a6-cd54-467a-dce4-63a67f00a668"
      },
      "execution_count": null,
      "outputs": [
        {
          "output_type": "execute_result",
          "data": {
            "text/plain": [
              "'123'"
            ],
            "application/vnd.google.colaboratory.intrinsic+json": {
              "type": "string"
            }
          },
          "metadata": {},
          "execution_count": 7
        }
      ]
    },
    {
      "cell_type": "code",
      "source": [
        "import math\n",
        "\n",
        "class Point:\n",
        "  def __init__(self, x, y):\n",
        "    self.x=x\n",
        "    self.y=y\n",
        "\n",
        "  def distance(self, other):\n",
        "    xdiff=self.x-other.x\n",
        "    ydiff=self.y-other.y\n",
        "    d=math.sqrt((self.x-other.x)**2 + (self.y-other.y)**2)\n",
        "    return d\n",
        "\n",
        "p1=Point(7,0)\n",
        "p2=Point(2,1)\n",
        "p1.distance(p2)\n"
      ],
      "metadata": {
        "colab": {
          "base_uri": "https://localhost:8080/"
        },
        "id": "oHnQNUubcOe9",
        "outputId": "accabc7d-6038-4490-cec4-bd8ca37c28d6"
      },
      "execution_count": 14,
      "outputs": [
        {
          "output_type": "execute_result",
          "data": {
            "text/plain": [
              "5.0990195135927845"
            ]
          },
          "metadata": {},
          "execution_count": 14
        }
      ]
    },
    {
      "cell_type": "code",
      "source": [
        "class Rectangle:\n",
        "  def __init__(self):\n",
        "    self.c1=Point(0,0)\n",
        "    self.c2=Point(0,2)\n",
        "    self.c3=Point(2,0)\n",
        "    self.c4=Point(2,2)\n",
        "    self.width=self.calculate_width()\n",
        "    self.length=self.calculate_length()\n",
        "\n",
        "  def calculate_width(self):\n",
        "    return self.c1.distance(self.c2)\n",
        "\n",
        "  def calculate_length(self):\n",
        "    return self.c1.distance(self.c3)\n",
        "\n",
        "  def area(self):\n",
        "    return f'Area= {self.calculate_width() * self.calculate_length()} sq.fr'\n",
        "\n",
        "square=Rectangle()\n",
        "square.area()"
      ],
      "metadata": {
        "id": "-3UUDJ4lfEsh",
        "colab": {
          "base_uri": "https://localhost:8080/",
          "height": 36
        },
        "outputId": "05ac4f5b-7f20-4dd5-c07c-e422df6d54af"
      },
      "execution_count": 16,
      "outputs": [
        {
          "output_type": "execute_result",
          "data": {
            "text/plain": [
              "'Area= 4.0 sq.fr'"
            ],
            "application/vnd.google.colaboratory.intrinsic+json": {
              "type": "string"
            }
          },
          "metadata": {},
          "execution_count": 16
        }
      ]
    }
  ]
}
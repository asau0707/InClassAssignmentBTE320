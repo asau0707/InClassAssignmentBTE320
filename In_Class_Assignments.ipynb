{
  "nbformat": 4,
  "nbformat_minor": 0,
  "metadata": {
    "colab": {
      "provenance": [],
      "authorship_tag": "ABX9TyPcBXFDUp1w4qf9WvxPfybq",
      "include_colab_link": true
    },
    "kernelspec": {
      "name": "python3",
      "display_name": "Python 3"
    },
    "language_info": {
      "name": "python"
    }
  },
  "cells": [
    {
      "cell_type": "markdown",
      "metadata": {
        "id": "view-in-github",
        "colab_type": "text"
      },
      "source": [
        "<a href=\"https://colab.research.google.com/github/asau0707/InClassAssignmentBTE320/blob/main/In_Class_Assignments.ipynb\" target=\"_parent\"><img src=\"https://colab.research.google.com/assets/colab-badge.svg\" alt=\"Open In Colab\"/></a>"
      ]
    },
    {
      "cell_type": "code",
      "execution_count": null,
      "metadata": {
        "colab": {
          "base_uri": "https://localhost:8080/"
        },
        "id": "cJaVvmzKo-dS",
        "outputId": "f20830bd-1fd1-4534-8782-76b654fa2bf0"
      },
      "outputs": [
        {
          "output_type": "stream",
          "name": "stdout",
          "text": [
            "Enter the radius: 80\n",
            "Enter the height: 7\n",
            "The surface area is:  41760\n"
          ]
        }
      ],
      "source": [
        "#two from input (val for pi, radius, and height)\n",
        "#use to calculate a surface area of closed cylindar. A=2pir^2 + 2pirh\n",
        "radius= input(\"Enter the radius: \")\n",
        "height= input(\"Enter the height: \")\n",
        "pi=int(3.14)\n",
        "x= 2*pi*int(radius)**2 + 2*pi*int(radius)*int(height)\n",
        "print(\"The surface area is: \", x)"
      ]
    }
  ]
}
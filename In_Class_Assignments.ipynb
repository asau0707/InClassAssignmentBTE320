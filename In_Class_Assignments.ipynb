{
  "nbformat": 4,
  "nbformat_minor": 0,
  "metadata": {
    "colab": {
      "provenance": [],
      "authorship_tag": "ABX9TyMjfIM4xlW/FRPM1pWdgz9j",
      "include_colab_link": true
    },
    "kernelspec": {
      "name": "python3",
      "display_name": "Python 3"
    },
    "language_info": {
      "name": "python"
    }
  },
  "cells": [
    {
      "cell_type": "markdown",
      "metadata": {
        "id": "view-in-github",
        "colab_type": "text"
      },
      "source": [
        "<a href=\"https://colab.research.google.com/github/asau0707/InClassAssignmentBTE320/blob/main/In_Class_Assignments.ipynb\" target=\"_parent\"><img src=\"https://colab.research.google.com/assets/colab-badge.svg\" alt=\"Open In Colab\"/></a>"
      ]
    },
    {
      "cell_type": "code",
      "execution_count": null,
      "metadata": {
        "colab": {
          "base_uri": "https://localhost:8080/"
        },
        "id": "cJaVvmzKo-dS",
        "outputId": "f20830bd-1fd1-4534-8782-76b654fa2bf0"
      },
      "outputs": [
        {
          "output_type": "stream",
          "name": "stdout",
          "text": [
            "Enter the radius: 80\n",
            "Enter the height: 7\n",
            "The surface area is:  41760\n"
          ]
        }
      ],
      "source": [
        "#two from input (val for pi, radius, and height)\n",
        "#use to calculate a surface area of closed cylindar. A=2pir^2 + 2pirh\n",
        "radius= input(\"Enter the radius: \")\n",
        "height= input(\"Enter the height: \")\n",
        "pi=int(3.14)\n",
        "x= 2*pi*int(radius)**2 + 2*pi*int(radius)*int(height)\n",
        "print(\"The surface area is: \", x)"
      ]
    },
    {
      "cell_type": "code",
      "source": [
        "number1=float(input(\"Please provide a number: \"))\n",
        "number2=float(input(\"Please provide another number: \"))\n",
        "symbol= input(\"Please provide a symbol (+,-,*,/,%): \")\n",
        "\n",
        "if symbol==\"+\":\n",
        "  print(f\"{number1} + {number2} = {number1 + number2}\")\n",
        "elif symbol==\"-\":\n",
        "  print(f\"{number1} - {number2} = {number1 - number2}\")\n",
        "elif symbol ==\"*\":\n",
        "  print(f\"{number1} * {number2} = {number1 * number2}\")\n",
        "elif symbol ==\"/\":\n",
        "  print(f\"{number1} / {number2} = {number1 / number2}\")\n",
        "elif symbol ==\"%\":\n",
        "  print(f\"{number1} mod {number2} = {number1 % number2}\")\n",
        "else:\n",
        "  print(\"Invalid symbol\")"
      ],
      "metadata": {
        "colab": {
          "base_uri": "https://localhost:8080/"
        },
        "id": "eedLPjJBf3OO",
        "outputId": "a938674e-c32a-40d0-bc15-14af359a266b"
      },
      "execution_count": null,
      "outputs": [
        {
          "output_type": "stream",
          "name": "stdout",
          "text": [
            "Please provide a number: 10\n",
            "Please provide another number: 2\n",
            "Please provide a symbol (+,-,*,/,%): %\n",
            "10.0 mod 2.0 = 0.0\n"
          ]
        }
      ]
    },
    {
      "cell_type": "code",
      "source": [
        "hours=int()\n",
        "for(hours) in range (1,9):\n",
        "  fee=(5+2.5*hours)\n",
        "  if(hours==1):\n",
        "    fee=10.0\n",
        "  elif(hours>6):\n",
        "    fee=20.0\n",
        "  print(hours,\" \", fee)\n"
      ],
      "metadata": {
        "colab": {
          "base_uri": "https://localhost:8080/"
        },
        "id": "APPZZ9NpXmK0",
        "outputId": "5da02764-1587-41a4-b1cd-88c0e71e3dfb"
      },
      "execution_count": null,
      "outputs": [
        {
          "output_type": "stream",
          "name": "stdout",
          "text": [
            "1   10.0\n",
            "2   10.0\n",
            "3   12.5\n",
            "4   15.0\n",
            "5   17.5\n",
            "6   20.0\n",
            "7   20.0\n",
            "8   20.0\n"
          ]
        }
      ]
    },
    {
      "cell_type": "code",
      "source": [
        "from types import CodeType\n",
        "for adMoney in range (0,201,25):\n",
        "  revenue= (20+2*round(adMoney**0.5)) *10\n",
        "  costs=200+adMoney\n",
        "  profit=revenue-costs\n",
        "  print(adMoney, \"\\t\", profit)\n"
      ],
      "metadata": {
        "colab": {
          "base_uri": "https://localhost:8080/"
        },
        "id": "xaWbkjP6c-LZ",
        "outputId": "c36b414c-da34-4046-a5f5-3a9b52387668"
      },
      "execution_count": null,
      "outputs": [
        {
          "output_type": "stream",
          "name": "stdout",
          "text": [
            "0 \t 0\n",
            "25 \t 75\n",
            "50 \t 90\n",
            "75 \t 105\n",
            "100 \t 100\n",
            "125 \t 95\n",
            "150 \t 90\n",
            "175 \t 85\n",
            "200 \t 80\n"
          ]
        }
      ]
    },
    {
      "cell_type": "code",
      "source": [
        "print(\"Ad$\\t\", \"Profit\")\n",
        "adMoney=0\n",
        "while adMoney <201:\n",
        "  revenue= (20+2*round(adMoney**0.5))*10\n",
        "  costs= 200+adMoney\n",
        "  profit=revenue-costs\n",
        "  print(adMoney, \"\\t\", profit)\n",
        "  adMoney+=25"
      ],
      "metadata": {
        "colab": {
          "base_uri": "https://localhost:8080/"
        },
        "id": "6pKD6_hhv6sm",
        "outputId": "5f30909b-28ce-402a-d72e-ceca47784595"
      },
      "execution_count": null,
      "outputs": [
        {
          "output_type": "stream",
          "name": "stdout",
          "text": [
            "Ad$\t Profit\n",
            "0 \t 0\n",
            "25 \t 75\n",
            "50 \t 90\n",
            "75 \t 105\n",
            "100 \t 100\n",
            "125 \t 95\n",
            "150 \t 90\n",
            "175 \t 85\n",
            "200 \t 80\n"
          ]
        }
      ]
    },
    {
      "cell_type": "code",
      "source": [
        "import random\n",
        "\n",
        "play=input(\"Do you want to play a game? (yes/no): \")\n",
        "\n",
        "while play==\"yes\":\n",
        "  p1=input(\"P1: Rock, Paper, or Scissors?: \")\n",
        "  p2=random.choice([\"Rock\", \"Paper\", \"Scissors\"])\n",
        "  print(f'Player chose {p1}; Computer chose {p2}')\n",
        "\n",
        "  if p1==p2:\n",
        "    print(\"Tie!\")\n",
        "  elif p1==\"Rock\":\n",
        "    if p2==\"Scissors\":\n",
        "      print(\"P1 wins!\")\n",
        "    else:\n",
        "      print(\"P2 wins!\")\n",
        "  elif p1==\"Paper\":\n",
        "    if p2==\"Rock\":\n",
        "      print(\"P1 wins!\")\n",
        "    else:\n",
        "      print(\"P2 wins!\")\n",
        "  elif p1==\"Scissors\":\n",
        "    if p2==\"Paper\":\n",
        "      print(\"P1 wins!\")\n",
        "    else:\n",
        "      print(\"P2 wins!\")\n",
        "  else:\n",
        "    print(\"Invalid Input\")\n",
        "  play=str(input(\"Do you want to play again? (yes/no): \"))\n",
        "print(\"Good day\")"
      ],
      "metadata": {
        "colab": {
          "base_uri": "https://localhost:8080/"
        },
        "id": "qT6AfW-TMXxz",
        "outputId": "e9acaff6-33d7-403d-9a04-626836db19ce"
      },
      "execution_count": null,
      "outputs": [
        {
          "output_type": "stream",
          "name": "stdout",
          "text": [
            "Do you want to play a game? (yes/no): yes\n",
            "P1: Rock, Paper, or Scissors?: Rock\n",
            "Player chose Rock; Computer chose Rock\n",
            "Tie!\n"
          ]
        }
      ]
    },
    {
      "cell_type": "code",
      "source": [
        "list=[]\n",
        "\n",
        "num=float(input(\"Give a number: \"))\n",
        "while num !=0:\n",
        "  list.append(num)\n",
        "  num=float(input(\"Give a number: \"))\n",
        "list.sort(reverse=True)\n",
        "print(list)"
      ],
      "metadata": {
        "colab": {
          "base_uri": "https://localhost:8080/"
        },
        "id": "LQ1F0lO4R-2Y",
        "outputId": "a610cceb-04ea-4767-c917-8fe73575b25b"
      },
      "execution_count": null,
      "outputs": [
        {
          "output_type": "stream",
          "name": "stdout",
          "text": [
            "Give a number: 8\n",
            "Give a number: 9\n",
            "Give a number: 11\n",
            "Give a number: 2.1\n",
            "Give a number: 0\n",
            "[11.0, 9.0, 8.0, 2.1]\n"
          ]
        }
      ]
    },
    {
      "cell_type": "code",
      "source": [],
      "metadata": {
        "id": "8jpByxctTc-V"
      },
      "execution_count": null,
      "outputs": []
    },
    {
      "cell_type": "code",
      "source": [
        "list=[]\n",
        "\n",
        "while True:\n",
        "  num=float(input(\"Give a number: \"))\n",
        "  if num==0:\n",
        "    break\n",
        "  list.append(num)\n",
        "list.sort(reverse=True)\n",
        "print(list)"
      ],
      "metadata": {
        "colab": {
          "base_uri": "https://localhost:8080/"
        },
        "outputId": "2000fb29-bbe7-47eb-c024-e7383d413733",
        "id": "V8aZQ-SkTdMR"
      },
      "execution_count": null,
      "outputs": [
        {
          "output_type": "stream",
          "name": "stdout",
          "text": [
            "Give a number: 6\n",
            "Give a number: 1\n",
            "Give a number: 12.4\n",
            "Give a number: 0\n",
            "[12.4, 6.0, 1.0]\n"
          ]
        }
      ]
    },
    {
      "cell_type": "code",
      "source": [
        "months = {}\n",
        "names= [\"Jan\", \"Feb\", \"March\", \"April\", \"May\", \"June\", \"July\", \"Aug\", \"Sept\", \"Oct\", \"Nov\", \"Dec\"]\n",
        "nums=[1,2,3,4,5,6,7,8,9,10,11,12]\n",
        "\n",
        "for idx in range(len(nums)):\n",
        "  months[nums[idx]]=names[idx]\n",
        "months\n",
        "\n",
        "'''\n",
        "cntr=0\n",
        "for num in nums:\n",
        "  months[num]=names[cntr]\n",
        "  cntr+=1\n",
        "months\n",
        "\n",
        "OR\n",
        "\n",
        "for num in nums:\n",
        "  months[num]=names[num-1]\n",
        "months\n",
        "'''"
      ],
      "metadata": {
        "colab": {
          "base_uri": "https://localhost:8080/"
        },
        "id": "8A0ZjHuwxzPf",
        "outputId": "b4561b19-e144-4f91-b6e0-7ccb1f4999b1"
      },
      "execution_count": null,
      "outputs": [
        {
          "output_type": "execute_result",
          "data": {
            "text/plain": [
              "{1: 'Jan',\n",
              " 2: 'Feb',\n",
              " 3: 'March',\n",
              " 4: 'April',\n",
              " 5: 'May',\n",
              " 6: 'June',\n",
              " 7: 'July',\n",
              " 8: 'Aug',\n",
              " 9: 'Sept',\n",
              " 10: 'Oct',\n",
              " 11: 'Nov',\n",
              " 12: 'Dec'}"
            ]
          },
          "metadata": {},
          "execution_count": 14
        }
      ]
    },
    {
      "cell_type": "code",
      "source": [
        "counts={}\n",
        "\n",
        "while len(counts)<5:\n",
        "  keyval=input(\"Give a String: \")\n",
        "\n",
        "  if keyval not in counts:\n",
        "    counts[keyval]=1\n",
        "  else:\n",
        "    counts[keyval]+=1\n",
        "counts"
      ],
      "metadata": {
        "id": "I5t4gd5R3u3U"
      },
      "execution_count": null,
      "outputs": []
    },
    {
      "cell_type": "code",
      "source": [
        "def calcFee(hours):\n",
        "  fee= 5 + 2.5*hours\n",
        "  if fee <10.0:\n",
        "    fee=10.0\n",
        "  elif fee >= 20.0:\n",
        "    fee=20.0\n",
        "  print(f'Fee for {hours} hours is {fee}')\n",
        "\n",
        "def main():\n",
        "  numHours=int(input(\"How many hours?: \"))\n",
        "  calcFee(numHours)\n",
        "main()"
      ],
      "metadata": {
        "id": "ID76NFkRnEK4"
      },
      "execution_count": null,
      "outputs": []
    }
  ]
}